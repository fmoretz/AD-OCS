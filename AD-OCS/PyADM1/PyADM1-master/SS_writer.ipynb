{
 "cells": [
  {
   "cell_type": "code",
   "execution_count": 9,
   "metadata": {},
   "outputs": [],
   "source": [
    "import pandas as pd\n",
    "import numpy as np\n",
    "import matplotlib.pyplot as plt\n",
    "import matplotlib as mpl"
   ]
  },
  {
   "cell_type": "code",
   "execution_count": 10,
   "metadata": {},
   "outputs": [],
   "source": [
    "influent = pd.read_csv('digester_influent_Matlab.csv')\n",
    "effluent = pd.read_csv(\"dynamic_out_matlab.csv\")\n",
    "gas = pd.read_csv(\"gas_flows_matlab.csv\")"
   ]
  },
  {
   "cell_type": "code",
   "execution_count": 11,
   "metadata": {},
   "outputs": [],
   "source": [
    "ind = len(effluent)-1\n",
    "Rgas_m3_atm_K = 0.08205746e-3 # m^3*atm/(mol*K)\n",
    "T_op = 35 +273.15 # K\n",
    "P_op = 1 # atm\n",
    "V_liq = 3400 #m3"
   ]
  },
  {
   "cell_type": "code",
   "execution_count": 12,
   "metadata": {},
   "outputs": [],
   "source": [
    "HRT = gas['HRT'][0]\n",
    "XT = effluent['X_xc'][ind]+ effluent['X_ch'][ind] + effluent['X_pr'][ind] + effluent['X_li'][ind]\n",
    "S1 = effluent['S_su'][ind] + effluent['S_aa'][ind] + effluent['S_fa'][ind] \n",
    "S2 = (effluent['S_va'][ind]/208 + effluent['S_bu'][ind]/160 + effluent['S_pro'][ind]/112 + effluent['S_ac'][ind]/64)*1000\n",
    "X1 = (effluent['X_su'][ind] + effluent['X_aa'][ind] + effluent['X_fa'][ind])/1.55\n",
    "X2 = (effluent['X_ac'][ind] + effluent['X_h2'][ind] + effluent['X_c4'][ind] + effluent['X_pro'][ind])/1.55\n",
    "C = effluent['S_IC'][ind]*1000\n",
    "Z = S2 + effluent['S_hco3_ion'][ind]*1000\n",
    "CO2 = effluent['S_co2'][ind]*1000\n",
    "B = effluent['S_hco3_ion'][ind]*1000\n",
    "pH = effluent['pH'][ind]\n",
    "\n",
    "q_C = gas['q_co2'][ind]*P_op/(Rgas_m3_atm_K*T_op)/V_liq\n",
    "q_M = gas['q_ch4'][ind]*P_op/(Rgas_m3_atm_K*T_op)/V_liq\n",
    "p_C = gas['p_gas_co2'][ind]*1.01325  \n",
    "SS_data = {'HRT': HRT, 'X_T': [XT], 'S_1': [S1], 'S_2': [S2], 'X_1': [X1], 'X_2': [X2], 'C': [C], 'Z': [Z], 'CO2': [CO2], 'B': [B], 'pH': [pH], 'p_C': [p_C], 'q_C': [q_C], 'q_CH4': [q_M]}\n",
    "SS = pd.DataFrame(SS_data)"
   ]
  },
  {
   "cell_type": "code",
   "execution_count": 13,
   "metadata": {},
   "outputs": [],
   "source": [
    "XT = influent['X_xc'][ind]+ influent['X_ch'][ind] + influent['X_pr'][ind] + influent['X_li'][ind]\n",
    "S1 = influent['S_su'][ind] + influent['S_aa'][ind] + influent['S_fa'][ind] \n",
    "S2 = (influent['S_va'][ind]/208 + influent['S_bu'][ind]/160 + influent['S_pro'][ind]/112 + influent['S_ac'][ind]/64)*1000\n",
    "\n",
    "C = influent['S_IC'][ind]*1000\n",
    "N = influent['S_IN'][ind]*1000\n",
    "CO2 = influent['S_co2'][ind]*1000\n",
    "Qin  = gas['Qin'][0]\n",
    "influent_data = {'S1in': [S1], 'S2in': [S2], 'Cin': [C], 'Nin': [N], 'Xin': [XT], 'Qin': [Qin]}\n",
    "infl = pd.DataFrame(influent_data)"
   ]
  },
  {
   "cell_type": "code",
   "execution_count": 14,
   "metadata": {},
   "outputs": [],
   "source": [
    "with pd.ExcelWriter(\"matlab.xlsx\") as writer:\n",
    "    SS.to_excel(writer, sheet_name='SS_values', index=False)\n",
    "    infl.to_excel(writer, sheet_name='influent', index=False)"
   ]
  }
 ],
 "metadata": {
  "kernelspec": {
   "display_name": "Python 3.10.0 64-bit",
   "language": "python",
   "name": "python3"
  },
  "language_info": {
   "codemirror_mode": {
    "name": "ipython",
    "version": 3
   },
   "file_extension": ".py",
   "mimetype": "text/x-python",
   "name": "python",
   "nbconvert_exporter": "python",
   "pygments_lexer": "ipython3",
   "version": "3.10.0"
  },
  "orig_nbformat": 4,
  "vscode": {
   "interpreter": {
    "hash": "26de051ba29f2982a8de78e945f0abaf191376122a1563185a90213a26c5da77"
   }
  }
 },
 "nbformat": 4,
 "nbformat_minor": 2
}
