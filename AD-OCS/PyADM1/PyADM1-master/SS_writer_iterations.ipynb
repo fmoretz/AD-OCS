{
 "cells": [
  {
   "cell_type": "code",
   "execution_count": 1,
   "metadata": {},
   "outputs": [
    {
     "data": {
      "text/plain": [
       "'Sequence of steps to allow the writing of the results from ADM1 in the proper style to be accepted by AD_OCS'"
      ]
     },
     "execution_count": 1,
     "metadata": {},
     "output_type": "execute_result"
    }
   ],
   "source": [
    "import pandas as pd\n",
    "import numpy as np\n",
    "import matplotlib.pyplot as plt\n",
    "import matplotlib as mpl\n",
    "'''Sequence of steps to allow the writing of the results from ADM1 in the proper style to be accepted by AD_OCS'''"
   ]
  },
  {
   "cell_type": "code",
   "execution_count": 2,
   "metadata": {},
   "outputs": [],
   "source": [
    "name = \"thoni_2\"\n",
    "process = pd.read_csv(name + \"_SS_values\" + \".csv\")\n",
    "gas = pd.read_csv( name +\"_SS_gas\"  + \".csv\")\n",
    "influent = pd.read_csv(name + '_digester_influent.csv')\n",
    "path = r\"C:\\Users\\fede1\\OneDrive - Politecnico di Milano\\Documenti\\GitHub\\AD-OCS\\Working data\"\n"
   ]
  },
  {
   "cell_type": "code",
   "execution_count": 3,
   "metadata": {},
   "outputs": [],
   "source": [
    "Rgas_m3_atm_K = 0.08205746e-3 # m^3*atm/(mol*K)\n",
    "T_op = 42.5 +273.15 # K\n",
    "P_op = 1 # atm\n",
    "V_liq = 4050 #m3"
   ]
  },
  {
   "cell_type": "code",
   "execution_count": 4,
   "metadata": {},
   "outputs": [],
   "source": [
    "HRT_vett = [10, 12, 13, 14, 15, 16, 17, 18, 20, 22, 24, 26]\n",
    "SS_data = pd.DataFrame()\n",
    "for ind in range(len(HRT_vett)):\n",
    "    HRT = HRT_vett[ind]\n",
    "    XT = process['X_xc'][ind]+ process['X_ch'][ind] + process['X_pr'][ind] + process['X_li'][ind]\n",
    "    S1 = process['S_su'][ind] + process['S_aa'][ind] + process['S_fa'][ind] \n",
    "    S2 = (process['S_va'][ind]/208 + process['S_bu'][ind]/160 + process['S_pro'][ind]/112 + process['S_ac'][ind]/64)*1000\n",
    "    X1 = (process['X_su'][ind] + process['X_aa'][ind] + process['X_fa'][ind])/1.55\n",
    "    X2 = (process['X_ac'][ind] + process['X_h2'][ind] + process['X_c4'][ind] + process['X_pro'][ind])/1.55\n",
    "    C = process['S_IC'][ind]*1000\n",
    "    Z = S2 + process['S_hco3_ion'][ind]*1000\n",
    "    CO2 = process['S_co2'][ind]*1000\n",
    "    B = process['S_hco3_ion'][ind]*1000\n",
    "    pH = process['pH'][ind]\n",
    "\n",
    "    q_C = gas['q_co2'][ind]*P_op/(Rgas_m3_atm_K*T_op)/V_liq\n",
    "    q_M = gas['q_ch4'][ind]*P_op/(Rgas_m3_atm_K*T_op)/V_liq\n",
    "    p_C = gas['p_gas_co2'][ind]*1.01325  \n",
    "\n",
    "    SS = {'HRT': HRT, 'X_T': XT, 'S_1': S1, 'S_2': S2, 'X_1': X1, 'X_2': X2, 'C': C, 'Z': Z, 'CO2': CO2, 'B': B, 'pH': pH, 'p_C': p_C, 'q_C': q_C, 'q_CH4': q_M}\n",
    "\n",
    "    SS_data = SS_data.append(SS, ignore_index=True)\n",
    "SS_data.set_index('HRT', inplace=True)"
   ]
  },
  {
   "cell_type": "code",
   "execution_count": 5,
   "metadata": {},
   "outputs": [
    {
     "data": {
      "text/html": [
       "<div>\n",
       "<style scoped>\n",
       "    .dataframe tbody tr th:only-of-type {\n",
       "        vertical-align: middle;\n",
       "    }\n",
       "\n",
       "    .dataframe tbody tr th {\n",
       "        vertical-align: top;\n",
       "    }\n",
       "\n",
       "    .dataframe thead th {\n",
       "        text-align: right;\n",
       "    }\n",
       "</style>\n",
       "<table border=\"1\" class=\"dataframe\">\n",
       "  <thead>\n",
       "    <tr style=\"text-align: right;\">\n",
       "      <th></th>\n",
       "      <th>X_T</th>\n",
       "      <th>S_1</th>\n",
       "      <th>S_2</th>\n",
       "      <th>X_1</th>\n",
       "      <th>X_2</th>\n",
       "      <th>C</th>\n",
       "      <th>Z</th>\n",
       "      <th>CO2</th>\n",
       "      <th>B</th>\n",
       "      <th>pH</th>\n",
       "      <th>p_C</th>\n",
       "      <th>q_C</th>\n",
       "      <th>q_CH4</th>\n",
       "    </tr>\n",
       "    <tr>\n",
       "      <th>HRT</th>\n",
       "      <th></th>\n",
       "      <th></th>\n",
       "      <th></th>\n",
       "      <th></th>\n",
       "      <th></th>\n",
       "      <th></th>\n",
       "      <th></th>\n",
       "      <th></th>\n",
       "      <th></th>\n",
       "      <th></th>\n",
       "      <th></th>\n",
       "      <th></th>\n",
       "      <th></th>\n",
       "    </tr>\n",
       "  </thead>\n",
       "  <tbody>\n",
       "    <tr>\n",
       "      <th>10.0</th>\n",
       "      <td>8.217996</td>\n",
       "      <td>0.282597</td>\n",
       "      <td>2.057973</td>\n",
       "      <td>1.114647</td>\n",
       "      <td>0.787315</td>\n",
       "      <td>43.510011</td>\n",
       "      <td>34.943544</td>\n",
       "      <td>10.624439</td>\n",
       "      <td>32.885572</td>\n",
       "      <td>6.778705</td>\n",
       "      <td>0.392291</td>\n",
       "      <td>14.896919</td>\n",
       "      <td>25.358444</td>\n",
       "    </tr>\n",
       "    <tr>\n",
       "      <th>12.0</th>\n",
       "      <td>7.099236</td>\n",
       "      <td>0.226716</td>\n",
       "      <td>1.587453</td>\n",
       "      <td>1.132586</td>\n",
       "      <td>0.805077</td>\n",
       "      <td>46.783908</td>\n",
       "      <td>37.844756</td>\n",
       "      <td>10.526604</td>\n",
       "      <td>36.257303</td>\n",
       "      <td>6.825665</td>\n",
       "      <td>0.389044</td>\n",
       "      <td>13.167919</td>\n",
       "      <td>22.356133</td>\n",
       "    </tr>\n",
       "    <tr>\n",
       "      <th>13.0</th>\n",
       "      <td>6.649887</td>\n",
       "      <td>0.207278</td>\n",
       "      <td>1.435539</td>\n",
       "      <td>1.137777</td>\n",
       "      <td>0.810933</td>\n",
       "      <td>48.253088</td>\n",
       "      <td>39.201909</td>\n",
       "      <td>10.486718</td>\n",
       "      <td>37.766370</td>\n",
       "      <td>6.845366</td>\n",
       "      <td>0.387677</td>\n",
       "      <td>12.438376</td>\n",
       "      <td>21.093573</td>\n",
       "    </tr>\n",
       "    <tr>\n",
       "      <th>14.0</th>\n",
       "      <td>6.255832</td>\n",
       "      <td>0.191410</td>\n",
       "      <td>1.314938</td>\n",
       "      <td>1.141237</td>\n",
       "      <td>0.815401</td>\n",
       "      <td>49.640489</td>\n",
       "      <td>40.504048</td>\n",
       "      <td>10.451379</td>\n",
       "      <td>39.189111</td>\n",
       "      <td>6.863291</td>\n",
       "      <td>0.386425</td>\n",
       "      <td>11.778589</td>\n",
       "      <td>19.955516</td>\n",
       "    </tr>\n",
       "    <tr>\n",
       "      <th>15.0</th>\n",
       "      <td>5.907455</td>\n",
       "      <td>0.178200</td>\n",
       "      <td>1.216609</td>\n",
       "      <td>1.143368</td>\n",
       "      <td>0.818795</td>\n",
       "      <td>50.958266</td>\n",
       "      <td>41.755194</td>\n",
       "      <td>10.419681</td>\n",
       "      <td>40.538585</td>\n",
       "      <td>6.879760</td>\n",
       "      <td>0.385321</td>\n",
       "      <td>11.188865</td>\n",
       "      <td>18.938795</td>\n",
       "    </tr>\n",
       "    <tr>\n",
       "      <th>16.0</th>\n",
       "      <td>5.597244</td>\n",
       "      <td>0.167023</td>\n",
       "      <td>1.134747</td>\n",
       "      <td>1.144470</td>\n",
       "      <td>0.821348</td>\n",
       "      <td>52.214925</td>\n",
       "      <td>42.958598</td>\n",
       "      <td>10.391074</td>\n",
       "      <td>41.823851</td>\n",
       "      <td>6.894996</td>\n",
       "      <td>0.384340</td>\n",
       "      <td>10.658536</td>\n",
       "      <td>18.025130</td>\n",
       "    </tr>\n",
       "    <tr>\n",
       "      <th>17.0</th>\n",
       "      <td>5.319250</td>\n",
       "      <td>0.157435</td>\n",
       "      <td>1.065431</td>\n",
       "      <td>1.144772</td>\n",
       "      <td>0.823236</td>\n",
       "      <td>53.416677</td>\n",
       "      <td>44.116974</td>\n",
       "      <td>10.365134</td>\n",
       "      <td>43.051543</td>\n",
       "      <td>6.909161</td>\n",
       "      <td>0.383460</td>\n",
       "      <td>10.178728</td>\n",
       "      <td>17.199285</td>\n",
       "    </tr>\n",
       "    <tr>\n",
       "      <th>18.0</th>\n",
       "      <td>5.068699</td>\n",
       "      <td>0.149114</td>\n",
       "      <td>1.005905</td>\n",
       "      <td>1.144450</td>\n",
       "      <td>0.824595</td>\n",
       "      <td>54.568426</td>\n",
       "      <td>45.232664</td>\n",
       "      <td>10.341667</td>\n",
       "      <td>44.226759</td>\n",
       "      <td>6.922375</td>\n",
       "      <td>0.382614</td>\n",
       "      <td>9.732715</td>\n",
       "      <td>16.434733</td>\n",
       "    </tr>\n",
       "    <tr>\n",
       "      <th>20.0</th>\n",
       "      <td>4.635124</td>\n",
       "      <td>0.135364</td>\n",
       "      <td>0.908754</td>\n",
       "      <td>1.142454</td>\n",
       "      <td>0.826125</td>\n",
       "      <td>56.735731</td>\n",
       "      <td>47.344033</td>\n",
       "      <td>10.300452</td>\n",
       "      <td>46.435279</td>\n",
       "      <td>6.946363</td>\n",
       "      <td>0.381150</td>\n",
       "      <td>8.953371</td>\n",
       "      <td>15.100141</td>\n",
       "    </tr>\n",
       "    <tr>\n",
       "      <th>22.0</th>\n",
       "      <td>4.273019</td>\n",
       "      <td>0.124445</td>\n",
       "      <td>0.832597</td>\n",
       "      <td>1.139261</td>\n",
       "      <td>0.826543</td>\n",
       "      <td>58.739982</td>\n",
       "      <td>49.307198</td>\n",
       "      <td>10.265380</td>\n",
       "      <td>48.474602</td>\n",
       "      <td>6.967593</td>\n",
       "      <td>0.379964</td>\n",
       "      <td>8.301346</td>\n",
       "      <td>13.983677</td>\n",
       "    </tr>\n",
       "    <tr>\n",
       "      <th>24.0</th>\n",
       "      <td>3.966048</td>\n",
       "      <td>0.115542</td>\n",
       "      <td>0.771091</td>\n",
       "      <td>1.135360</td>\n",
       "      <td>0.826232</td>\n",
       "      <td>60.599014</td>\n",
       "      <td>51.134810</td>\n",
       "      <td>10.235295</td>\n",
       "      <td>50.363718</td>\n",
       "      <td>6.986513</td>\n",
       "      <td>0.378953</td>\n",
       "      <td>7.741763</td>\n",
       "      <td>13.027112</td>\n",
       "    </tr>\n",
       "    <tr>\n",
       "      <th>26.0</th>\n",
       "      <td>3.702504</td>\n",
       "      <td>0.108128</td>\n",
       "      <td>0.720231</td>\n",
       "      <td>1.131065</td>\n",
       "      <td>0.825442</td>\n",
       "      <td>62.327182</td>\n",
       "      <td>52.838251</td>\n",
       "      <td>10.209161</td>\n",
       "      <td>52.118021</td>\n",
       "      <td>7.003473</td>\n",
       "      <td>0.378100</td>\n",
       "      <td>7.259745</td>\n",
       "      <td>12.203671</td>\n",
       "    </tr>\n",
       "  </tbody>\n",
       "</table>\n",
       "</div>"
      ],
      "text/plain": [
       "           X_T       S_1       S_2       X_1       X_2          C          Z  \\\n",
       "HRT                                                                            \n",
       "10.0  8.217996  0.282597  2.057973  1.114647  0.787315  43.510011  34.943544   \n",
       "12.0  7.099236  0.226716  1.587453  1.132586  0.805077  46.783908  37.844756   \n",
       "13.0  6.649887  0.207278  1.435539  1.137777  0.810933  48.253088  39.201909   \n",
       "14.0  6.255832  0.191410  1.314938  1.141237  0.815401  49.640489  40.504048   \n",
       "15.0  5.907455  0.178200  1.216609  1.143368  0.818795  50.958266  41.755194   \n",
       "16.0  5.597244  0.167023  1.134747  1.144470  0.821348  52.214925  42.958598   \n",
       "17.0  5.319250  0.157435  1.065431  1.144772  0.823236  53.416677  44.116974   \n",
       "18.0  5.068699  0.149114  1.005905  1.144450  0.824595  54.568426  45.232664   \n",
       "20.0  4.635124  0.135364  0.908754  1.142454  0.826125  56.735731  47.344033   \n",
       "22.0  4.273019  0.124445  0.832597  1.139261  0.826543  58.739982  49.307198   \n",
       "24.0  3.966048  0.115542  0.771091  1.135360  0.826232  60.599014  51.134810   \n",
       "26.0  3.702504  0.108128  0.720231  1.131065  0.825442  62.327182  52.838251   \n",
       "\n",
       "            CO2          B        pH       p_C        q_C      q_CH4  \n",
       "HRT                                                                   \n",
       "10.0  10.624439  32.885572  6.778705  0.392291  14.896919  25.358444  \n",
       "12.0  10.526604  36.257303  6.825665  0.389044  13.167919  22.356133  \n",
       "13.0  10.486718  37.766370  6.845366  0.387677  12.438376  21.093573  \n",
       "14.0  10.451379  39.189111  6.863291  0.386425  11.778589  19.955516  \n",
       "15.0  10.419681  40.538585  6.879760  0.385321  11.188865  18.938795  \n",
       "16.0  10.391074  41.823851  6.894996  0.384340  10.658536  18.025130  \n",
       "17.0  10.365134  43.051543  6.909161  0.383460  10.178728  17.199285  \n",
       "18.0  10.341667  44.226759  6.922375  0.382614   9.732715  16.434733  \n",
       "20.0  10.300452  46.435279  6.946363  0.381150   8.953371  15.100141  \n",
       "22.0  10.265380  48.474602  6.967593  0.379964   8.301346  13.983677  \n",
       "24.0  10.235295  50.363718  6.986513  0.378953   7.741763  13.027112  \n",
       "26.0  10.209161  52.118021  7.003473  0.378100   7.259745  12.203671  "
      ]
     },
     "execution_count": 5,
     "metadata": {},
     "output_type": "execute_result"
    }
   ],
   "source": [
    "SS_data"
   ]
  },
  {
   "cell_type": "code",
   "execution_count": 6,
   "metadata": {},
   "outputs": [],
   "source": [
    "ind = ind = len(influent)-1\n",
    "XT = influent['X_xc'][ind]+ influent['X_ch'][ind] + influent['X_pr'][ind] + influent['X_li'][ind]\n",
    "S1 = influent['S_su'][ind] + influent['S_aa'][ind] + influent['S_fa'][ind] \n",
    "S2 = (influent['S_va'][ind]/208 + influent['S_bu'][ind]/160 + influent['S_pro'][ind]/112 + influent['S_ac'][ind]/64)*1000\n",
    "\n",
    "C = influent['S_IC'][ind]*1000\n",
    "N = influent['S_IN'][ind]*1000\n",
    "CO2 = influent['S_co2'][ind]*1000\n",
    "\n",
    "influent_data = {'S1in': [S1], 'S2in': [S2], 'Cin': [C], 'Nin': [N], 'XTin': [XT]}\n",
    "infl = pd.DataFrame(influent_data)\n"
   ]
  },
  {
   "cell_type": "code",
   "execution_count": 7,
   "metadata": {},
   "outputs": [
    {
     "data": {
      "text/plain": [
       "[<matplotlib.lines.Line2D at 0x2051bf18e20>]"
      ]
     },
     "execution_count": 7,
     "metadata": {},
     "output_type": "execute_result"
    },
    {
     "data": {
      "image/png": "[encoded data removed]",
      "text/plain": [
       "<Figure size 432x288 with 1 Axes>"
      ]
     },
     "metadata": {
      "needs_background": "light"
     },
     "output_type": "display_data"
    }
   ],
   "source": [
    "plt.plot(SS_data.index, SS_data['q_C'], label = 'X2')"
   ]
  },
  {
   "cell_type": "code",
   "execution_count": 8,
   "metadata": {},
   "outputs": [
    {
     "data": {
      "text/plain": [
       "[<matplotlib.lines.Line2D at 0x2051e0175b0>]"
      ]
     },
     "execution_count": 8,
     "metadata": {},
     "output_type": "execute_result"
    },
    {
     "data": {
      "image/png": "[encoded data removed]",
      "text/plain": [
       "<Figure size 432x288 with 1 Axes>"
      ]
     },
     "metadata": {
      "needs_background": "light"
     },
     "output_type": "display_data"
    }
   ],
   "source": [
    "plt.plot(SS_data.index, SS_data['q_C'], label = 'X2')"
   ]
  },
  {
   "cell_type": "code",
   "execution_count": 9,
   "metadata": {},
   "outputs": [],
   "source": [
    "with pd.ExcelWriter(name +'_working_data' + '.xlsx') as writer:\n",
    "    SS_data.to_excel(writer, sheet_name='SS_Values', index=True)\n",
    "    infl.to_excel(writer, sheet_name='Influent', index=False)"
   ]
  },
  {
   "cell_type": "code",
   "execution_count": null,
   "metadata": {},
   "outputs": [],
   "source": []
  }
 ],
 "metadata": {
  "kernelspec": {
   "display_name": "Python 3.10.0 64-bit",
   "language": "python",
   "name": "python3"
  },
  "language_info": {
   "codemirror_mode": {
    "name": "ipython",
    "version": 3
   },
   "file_extension": ".py",
   "mimetype": "text/x-python",
   "name": "python",
   "nbconvert_exporter": "python",
   "pygments_lexer": "ipython3",
   "version": "3.10.0"
  },
  "orig_nbformat": 4,
  "vscode": {
   "interpreter": {
    "hash": "26de051ba29f2982a8de78e945f0abaf191376122a1563185a90213a26c5da77"
   }
  }
 },
 "nbformat": 4,
 "nbformat_minor": 2
}
