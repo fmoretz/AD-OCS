{
 "cells": [
  {
   "cell_type": "code",
   "execution_count": 1,
   "metadata": {},
   "outputs": [],
   "source": [
    "import pandas as pd\n",
    "import numpy as np\n",
    "import matplotlib.pyplot as plt\n"
   ]
  },
  {
   "cell_type": "code",
   "execution_count": 2,
   "metadata": {},
   "outputs": [],
   "source": [
    "## unit for each parameter is commented after it is declared (inline)\n",
    "## if the suggested value for the parameter is different -\n",
    "## The original default value from the original ADM1 report by Batstone et al (2002), is commented after each unit (inline)\n",
    "\n",
    "##constant definition from the Rosen et al (2006) BSM2 report\n",
    "R =  0.083145 #bar.M^-1.K^-1\n",
    "T_base =  298.15 #K\n",
    "p_atm =  1.013 #bar\n",
    "T_op =  308.15 #k ##T_ad #=35 C\n",
    "\n",
    "name = 'matlab'\n",
    "influent_state = pd.read_csv(name + \"_digester_influent_dyn\"+ \".csv\")\n",
    "initial_state = pd.read_csv(name + \"_digester_initial_SS\"+  \".csv\")\n",
    "\n",
    "##parameter definition from the Rosen et al (2006) BSM2 report bmadm1_report\n",
    "# Stoichiometric parameter\n",
    "f_sI_xc =  0.2 # 0.1\n",
    "f_xI_xc =  0.4 # 0.2\n",
    "f_ch_xc =  0.4 # 0.2\n",
    "f_pr_xc =  0.0 # 0.2\n",
    "f_li_xc =  0.0 # 0.3\n",
    "N_xc =  0.0376 / 14\n",
    "N_I =  0.06 / 14 #kmole N.kg^-1COD\n",
    "N_aa =  0.007 #kmole N.kg^-1COD\n",
    "C_xc =  0.02786 #kmole C.kg^-1COD\n",
    "C_sI =  0.03 #kmole C.kg^-1COD\n",
    "C_ch =  0.0313 #kmole C.kg^-1COD\n",
    "C_pr =  0.03 #kmole C.kg^-1COD\n",
    "C_li =  0.022 #kmole C.kg^-1COD\n",
    "C_xI =  0.03 #kmole C.kg^-1COD\n",
    "C_su =  0.0313 #kmole C.kg^-1COD\n",
    "C_aa =  0.03 #kmole C.kg^-1COD\n",
    "f_fa_li =  0.95\n",
    "C_fa =  0.0217 #kmole C.kg^-1COD\n",
    "f_h2_su =  0.19\n",
    "f_bu_su =  0.13\n",
    "f_pro_su =  0.27\n",
    "f_ac_su =  0.41\n",
    "N_bac =  0.08 / 14 #kmole N.kg^-1COD\n",
    "C_bu =  0.025 #kmole C.kg^-1COD\n",
    "C_pro =  0.0268 #kmole C.kg^-1COD\n",
    "C_ac =  0.0313 #kmole C.kg^-1COD\n",
    "C_bac =  0.0313 #kmole C.kg^-1COD\n",
    "Y_su =  0.1\n",
    "f_h2_aa =  0.06\n",
    "f_va_aa =  0.23\n",
    "f_bu_aa =  0.26\n",
    "f_pro_aa =  0.05\n",
    "f_ac_aa =  0.40\n",
    "C_va =  0.024 #kmole C.kg^-1COD\n",
    "Y_aa =  0.08\n",
    "Y_fa =  0.06\n",
    "Y_c4 =  0.06\n",
    "Y_pro =  0.04\n",
    "C_ch4 =  0.0156 #kmole C.kg^-1COD\n",
    "Y_ac =  0.05\n",
    "Y_h2 =  0.06\n",
    "\n",
    "\n",
    "# Biochemical parameter values from the Rosen et al (2006) BSM2 report\n",
    "k_dis =  0.5 #d^-1\n",
    "k_hyd_ch = 1.25 # 10 #d^-1\n",
    "k_hyd_pr = 0.5  # 10 #d^-1\n",
    "k_hyd_li = 0.4  # 10 #d^-1\n",
    "K_S_IN =  10 ** -4 #M\n",
    "k_m_su =  30 #d^-1\n",
    "K_S_su =  0.5 #kgCOD.m^-3\n",
    "pH_UL_aa =  5.5\n",
    "pH_LL_aa =  4\n",
    "k_m_aa =  50 #d^-1\n",
    "K_S_aa =  0.3 ##kgCOD.m^-3\n",
    "k_m_fa =  6 #d^-1\n",
    "K_S_fa =  0.4 #kgCOD.m^-3\n",
    "K_I_h2_fa =  5 * 10 ** -6 #kgCOD.m^-3\n",
    "k_m_c4 =  20 #d^-1\n",
    "K_S_c4 =  0.2 #kgCOD.m^-3\n",
    "K_I_h2_c4 =  10 ** -5 #kgCOD.m^-3\n",
    "k_m_pro =  13 #d^-1\n",
    "K_S_pro =  0.1 #kgCOD.m^-3\n",
    "K_I_h2_pro =  3.5 * 10 ** -6 #kgCOD.m^-3\n",
    "k_m_ac =  8 #kgCOD.m^-3\n",
    "K_S_ac =  0.15 #kgCOD.m^-3\n",
    "K_I_nh3 =  0.0018 #M\n",
    "pH_UL_ac =  7\n",
    "pH_LL_ac =  6\n",
    "k_m_h2 =  35 #d^-1\n",
    "K_S_h2 =  7 * 10 ** -6 #kgCOD.m^-3\n",
    "pH_UL_h2 =  6\n",
    "pH_LL_h2 =  5\n",
    "k_dec_X_su =  0.02 #d^-1\n",
    "k_dec_X_aa =  0.02 #d^-1\n",
    "k_dec_X_fa =  0.02 #d^-1\n",
    "k_dec_X_c4 =  0.02 #d^-1\n",
    "k_dec_X_pro =  0.02 #d^-1\n",
    "k_dec_X_ac =  0.02 #d^-1\n",
    "k_dec_X_h2 =  0.02 #d^-1\n",
    "## M is kmole m^-3\n",
    "\n",
    "# Physico-chemical parameter values from the Rosen et al (2006) BSM2 report\n",
    "T_ad =  308.15 #K\n",
    "\n",
    "\n",
    "K_w =  10 ** -14.0 * np.exp((55900 / (100 * R)) * (1 / T_base - 1 / T_ad)) #M #2.08 * 10 ^ -14\n",
    "\n",
    "K_a_va =  10 ** -4.86 #M  ADM1 value = 1.38 * 10 ^ -5\n",
    "K_a_bu =  10 ** -4.82 #M #1.5 * 10 ^ -5\n",
    "K_a_pro =  10 ** -4.88 #M #1.32 * 10 ^ -5\n",
    "K_a_ac =  10 ** -4.76 #M #1.74 * 10 ^ -5\n",
    "\n",
    "\n",
    "K_a_co2 =  10 ** -6.35 * np.exp((7646 / (100 * R)) * (1 / T_base - 1 / T_ad)) #M #4.94 * 10 ^ -7\n",
    "K_a_IN =  10 ** -9.25 * np.exp((51965 / (100 * R)) * (1 / T_base - 1 / T_ad)) #M #1.11 * 10 ^ -9\n",
    "\n",
    "\n",
    "k_A_B_va =  10 ** 10 #M^-1 * d^-1\n",
    "k_A_B_bu =  10 ** 10 #M^-1 * d^-1\n",
    "k_A_B_pro =  10 ** 10 #M^-1 * d^-1\n",
    "k_A_B_ac =  10 ** 10 #M^-1 * d^-1\n",
    "k_A_B_co2 =  10 ** 10 #M^-1 * d^-1\n",
    "k_A_B_IN =  10 ** 10 #M^-1 * d^-1\n",
    "\n",
    "\n",
    "p_gas_h2o =  0.0313 * np.exp(5290 * (1 / T_base - 1 / T_ad)) #bar #0.0557\n",
    "k_p = 5 * 10 ** 4 #m^3.d^-1.bar^-1 #only for BSM2 AD conditions, recalibrate for other AD cases #gas outlet friction ==============================================================================================================================================\n",
    "k_L_a =  200.0 #d^-1\n",
    "K_H_co2 =  0.035 * np.exp((-19410 / (100 * R))* (1 / T_base - 1 / T_ad)) #Mliq.bar^-1 #0.0271\n",
    "K_H_ch4 =  0.0014 * np.exp((-14240 / (100 * R)) * (1 / T_base - 1 / T_ad)) #Mliq.bar^-1 #0.00116\n",
    "K_H_h2 =  7.8 * 10 ** -4 * np.exp(-4180 / (100 * R) * (1 / T_base - 1 / T_ad)) #Mliq.bar^-1 #7.38*10^-4\n",
    "\n",
    "# Physical parameter values used in BSM2 from the Rosen et al (2006) BSM2 report\n",
    "V_liq =  4060 #3400 #m^3\n",
    "V_gas =  350 #300 #m^3\n",
    "V_ad = V_liq + V_gas #m^-3\n"
   ]
  },
  {
   "cell_type": "code",
   "execution_count": 3,
   "metadata": {},
   "outputs": [],
   "source": [
    "name = 'matlab'\n",
    "influent = pd.read_csv(name + '_digester_influent_dyn.csv')\n",
    "effluent = pd.read_csv(name + \"_out_variables_dyn.csv\")\n",
    "gas = pd.read_csv(name + \"_gas_flows_dyn.csv\")"
   ]
  },
  {
   "cell_type": "code",
   "execution_count": 4,
   "metadata": {},
   "outputs": [
    {
     "data": {
      "text/plain": [
       "<matplotlib.legend.Legend at 0x20ab9eafd30>"
      ]
     },
     "execution_count": 4,
     "metadata": {},
     "output_type": "execute_result"
    },
    {
     "data": {
      "image/png": "[encoded data removed]",
      "text/plain": [
       "<Figure size 432x288 with 1 Axes>"
      ]
     },
     "metadata": {
      "needs_background": "light"
     },
     "output_type": "display_data"
    }
   ],
   "source": [
    "tspan = influent['time']\n",
    "plt.plot(tspan, gas['q_ch4'], label='CH4')\n",
    "plt.plot(tspan, gas['q_co2'], label='CO2')\n",
    "plt.legend()\n"
   ]
  },
  {
   "cell_type": "code",
   "execution_count": 5,
   "metadata": {},
   "outputs": [
    {
     "data": {
      "text/plain": [
       "[<matplotlib.lines.Line2D at 0x20aba07d780>]"
      ]
     },
     "execution_count": 5,
     "metadata": {},
     "output_type": "execute_result"
    },
    {
     "data": {
      "image/png": "[encoded data removed]",
      "text/plain": [
       "<Figure size 432x288 with 1 Axes>"
      ]
     },
     "metadata": {
      "needs_background": "light"
     },
     "output_type": "display_data"
    }
   ],
   "source": [
    "plt.plot(tspan, effluent['X_xc'], label = 'Xc') # Composites\n",
    "plt.plot(tspan, effluent['X_ch'], label = 'Ch') # Carbohyrates\n",
    "plt.plot(tspan, effluent['X_pr'], label = 'Pr') # Proteins\n",
    "plt.plot(tspan, effluent['X_li'], label = 'Li') # Lipids"
   ]
  },
  {
   "cell_type": "code",
   "execution_count": 6,
   "metadata": {},
   "outputs": [
    {
     "data": {
      "text/plain": [
       "[<matplotlib.lines.Line2D at 0x20aba0eb1f0>]"
      ]
     },
     "execution_count": 6,
     "metadata": {},
     "output_type": "execute_result"
    },
    {
     "data": {
      "image/png": "[encoded data removed]",
      "text/plain": [
       "<Figure size 432x288 with 1 Axes>"
      ]
     },
     "metadata": {
      "needs_background": "light"
     },
     "output_type": "display_data"
    }
   ],
   "source": [
    "plt.plot(tspan, effluent['S_su'], label = 'Su') # Sugars\n",
    "plt.plot(tspan, effluent['S_fa'], label = 'Fa') # Fatty acids\n",
    "plt.plot(tspan, effluent['S_aa'], label = 'Aa') # Amino acids"
   ]
  },
  {
   "cell_type": "code",
   "execution_count": 7,
   "metadata": {},
   "outputs": [
    {
     "data": {
      "text/plain": [
       "<matplotlib.legend.Legend at 0x20aba118ac0>"
      ]
     },
     "execution_count": 7,
     "metadata": {},
     "output_type": "execute_result"
    },
    {
     "data": {
      "image/png": "[encoded data removed]",
      "text/plain": [
       "<Figure size 432x288 with 1 Axes>"
      ]
     },
     "metadata": {
      "needs_background": "light"
     },
     "output_type": "display_data"
    }
   ],
   "source": [
    "plt.plot(tspan, effluent['S_va'], label = 'Va') # Volatile acids\n",
    "plt.plot(tspan, effluent['S_ac'], label = 'Ac') # Acetic acid\n",
    "plt.plot(tspan, effluent['S_pro'], label = 'Pro') # Propionic acid\n",
    "plt.plot(tspan, effluent['S_bu'], label = 'Bu') # Butyric acid\n",
    "plt.legend()"
   ]
  },
  {
   "cell_type": "code",
   "execution_count": 8,
   "metadata": {},
   "outputs": [
    {
     "data": {
      "text/plain": [
       "[<matplotlib.lines.Line2D at 0x20aba8c2b30>]"
      ]
     },
     "execution_count": 8,
     "metadata": {},
     "output_type": "execute_result"
    },
    {
     "data": {
      "image/png": "[encoded data removed]",
      "text/plain": [
       "<Figure size 432x288 with 1 Axes>"
      ]
     },
     "metadata": {
      "needs_background": "light"
     },
     "output_type": "display_data"
    }
   ],
   "source": [
    "plt.plot(tspan, effluent['S_h2'], label = 'H2') # Hydrogen\n",
    "plt.plot(tspan, effluent['S_co2'], label = 'CO2') # Carbon dioxide\n",
    "plt.plot(tspan, effluent['S_ch4'], label = 'CH4') # Methane\n"
   ]
  },
  {
   "cell_type": "code",
   "execution_count": 9,
   "metadata": {},
   "outputs": [
    {
     "data": {
      "text/plain": [
       "[<matplotlib.lines.Line2D at 0x20aba92f430>]"
      ]
     },
     "execution_count": 9,
     "metadata": {},
     "output_type": "execute_result"
    },
    {
     "data": {
      "image/png": "[encoded data removed]",
      "text/plain": [
       "<Figure size 432x288 with 1 Axes>"
      ]
     },
     "metadata": {
      "needs_background": "light"
     },
     "output_type": "display_data"
    }
   ],
   "source": [
    "\n",
    "plt.plot(tspan, effluent['X_ac'])\n",
    "plt.plot(tspan, effluent['X_pro'])\n"
   ]
  },
  {
   "cell_type": "code",
   "execution_count": 10,
   "metadata": {},
   "outputs": [],
   "source": [
    "# related to pH inhibition taken from BSM2 report, they are global variables to avoid repeating them in DAE part\n",
    "K_pH_aa =  (10 ** (-1 * (pH_LL_aa + pH_UL_aa) / 2.0))\n",
    "nn_aa =  (3.0 / (pH_UL_aa - pH_LL_aa)) #we need a differece between N_aa and n_aa to avoid typos and nn_aa refers to the n_aa in BSM2 report\n",
    "K_pH_ac = (10 ** (-1 * (pH_LL_ac + pH_UL_ac) / 2.0))\n",
    "n_ac =  (3.0 / (pH_UL_ac - pH_LL_ac))\n",
    "K_pH_h2 =  (10 ** (-1 * (pH_LL_h2 + pH_UL_h2) / 2.0))\n",
    "n_h2 =  (3.0 / (pH_UL_h2 - pH_LL_h2))\n",
    "\n"
   ]
  },
  {
   "cell_type": "code",
   "execution_count": 13,
   "metadata": {},
   "outputs": [
    {
     "data": {
      "text/plain": [
       "[<matplotlib.lines.Line2D at 0x20abaa3bc70>]"
      ]
     },
     "execution_count": 13,
     "metadata": {},
     "output_type": "execute_result"
    },
    {
     "data": {
      "image/png": "[encoded data removed]",
      "text/plain": [
       "<Figure size 432x288 with 1 Axes>"
      ]
     },
     "metadata": {
      "needs_background": "light"
     },
     "output_type": "display_data"
    }
   ],
   "source": [
    "plt.plot(tspan,effluent['pH'])\n"
   ]
  },
  {
   "cell_type": "code",
   "execution_count": 14,
   "metadata": {},
   "outputs": [],
   "source": [
    "I_IN_lim = 1 / (1 + (K_S_IN / effluent['S_IN']))"
   ]
  },
  {
   "cell_type": "code",
   "execution_count": 15,
   "metadata": {},
   "outputs": [],
   "source": [
    "S_H_ion = 10 ** (-1 * effluent['pH'])\n",
    "I_pH_ac =  ((K_pH_ac ** n_ac) / (S_H_ion ** n_ac + K_pH_ac ** n_ac))"
   ]
  },
  {
   "cell_type": "code",
   "execution_count": 24,
   "metadata": {},
   "outputs": [
    {
     "data": {
      "text/plain": [
       "[<matplotlib.lines.Line2D at 0x20abfcdcaf0>]"
      ]
     },
     "execution_count": 24,
     "metadata": {},
     "output_type": "execute_result"
    },
    {
     "data": {
      "image/png": "[encoded data removed]",
      "text/plain": [
       "<Figure size 432x288 with 1 Axes>"
      ]
     },
     "metadata": {
      "needs_background": "light"
     },
     "output_type": "display_data"
    }
   ],
   "source": [
    "plt.plot(tspan, effluent['S_bu_ion'])"
   ]
  },
  {
   "cell_type": "code",
   "execution_count": 29,
   "metadata": {},
   "outputs": [
    {
     "data": {
      "text/plain": [
       "[<matplotlib.lines.Line2D at 0x20ac09bba30>]"
      ]
     },
     "execution_count": 29,
     "metadata": {},
     "output_type": "execute_result"
    },
    {
     "data": {
      "image/png": "[encoded data removed]",
      "text/plain": [
       "<Figure size 432x288 with 1 Axes>"
      ]
     },
     "metadata": {
      "needs_background": "light"
     },
     "output_type": "display_data"
    }
   ],
   "source": [
    "plt.plot(tspan,effluent['S_hco3_ion'])"
   ]
  },
  {
   "cell_type": "code",
   "execution_count": 25,
   "metadata": {},
   "outputs": [
    {
     "data": {
      "text/plain": [
       "[<matplotlib.lines.Line2D at 0x20ac0d843d0>]"
      ]
     },
     "execution_count": 25,
     "metadata": {},
     "output_type": "execute_result"
    },
    {
     "data": {
      "image/png": "[encoded data removed]",
      "text/plain": [
       "<Figure size 432x288 with 1 Axes>"
      ]
     },
     "metadata": {
      "needs_background": "light"
     },
     "output_type": "display_data"
    }
   ],
   "source": [
    "plt.plot(tspan, S_H_ion)"
   ]
  },
  {
   "cell_type": "code",
   "execution_count": 17,
   "metadata": {},
   "outputs": [
    {
     "data": {
      "text/plain": [
       "[<matplotlib.lines.Line2D at 0x20abab136d0>]"
      ]
     },
     "execution_count": 17,
     "metadata": {},
     "output_type": "execute_result"
    },
    {
     "data": {
      "image/png": "[encoded data removed]",
      "text/plain": [
       "<Figure size 432x288 with 1 Axes>"
      ]
     },
     "metadata": {
      "needs_background": "light"
     },
     "output_type": "display_data"
    }
   ],
   "source": [
    "plt.plot(tspan, k_dec_X_ac*effluent['X_ac'], label = 'X_ac')"
   ]
  },
  {
   "cell_type": "code",
   "execution_count": 18,
   "metadata": {},
   "outputs": [],
   "source": [
    "Rgas_m3_atm_K = 0.08205746e-3 # m^3*atm/(mol*K)\n",
    "T_op = 35 + 273.15 # K\n",
    "P_op = 1 # atm\n",
    "V_liq = 4090 #m3\n"
   ]
  },
  {
   "cell_type": "code",
   "execution_count": 19,
   "metadata": {},
   "outputs": [
    {
     "data": {
      "text/html": [
       "<div>\n",
       "<style scoped>\n",
       "    .dataframe tbody tr th:only-of-type {\n",
       "        vertical-align: middle;\n",
       "    }\n",
       "\n",
       "    .dataframe tbody tr th {\n",
       "        vertical-align: top;\n",
       "    }\n",
       "\n",
       "    .dataframe thead th {\n",
       "        text-align: right;\n",
       "    }\n",
       "</style>\n",
       "<table border=\"1\" class=\"dataframe\">\n",
       "  <thead>\n",
       "    <tr style=\"text-align: right;\">\n",
       "      <th></th>\n",
       "      <th>t</th>\n",
       "      <th>X_T</th>\n",
       "      <th>S_1</th>\n",
       "      <th>S_2</th>\n",
       "      <th>X_1</th>\n",
       "      <th>X_2</th>\n",
       "      <th>C</th>\n",
       "      <th>Z</th>\n",
       "      <th>CO2</th>\n",
       "      <th>B</th>\n",
       "      <th>pH</th>\n",
       "      <th>p_C</th>\n",
       "      <th>q_C</th>\n",
       "      <th>q_CH4</th>\n",
       "    </tr>\n",
       "  </thead>\n",
       "  <tbody>\n",
       "    <tr>\n",
       "      <th>0</th>\n",
       "      <td>0.000000</td>\n",
       "      <td>11.306162</td>\n",
       "      <td>1.049330</td>\n",
       "      <td>8.739460</td>\n",
       "      <td>0.731063</td>\n",
       "      <td>0.628058</td>\n",
       "      <td>53.940968</td>\n",
       "      <td>52.377986</td>\n",
       "      <td>10.000000</td>\n",
       "      <td>43.638526</td>\n",
       "      <td>6.933462</td>\n",
       "      <td>0.000000</td>\n",
       "      <td>0.000000</td>\n",
       "      <td>0.000000</td>\n",
       "    </tr>\n",
       "    <tr>\n",
       "      <th>1</th>\n",
       "      <td>0.020833</td>\n",
       "      <td>11.306162</td>\n",
       "      <td>1.049330</td>\n",
       "      <td>8.739449</td>\n",
       "      <td>0.731063</td>\n",
       "      <td>0.628058</td>\n",
       "      <td>53.941347</td>\n",
       "      <td>52.378005</td>\n",
       "      <td>10.302791</td>\n",
       "      <td>43.638556</td>\n",
       "      <td>6.933446</td>\n",
       "      <td>0.379301</td>\n",
       "      <td>16.399190</td>\n",
       "      <td>29.959412</td>\n",
       "    </tr>\n",
       "    <tr>\n",
       "      <th>2</th>\n",
       "      <td>0.041667</td>\n",
       "      <td>11.306162</td>\n",
       "      <td>1.049330</td>\n",
       "      <td>8.739445</td>\n",
       "      <td>0.731063</td>\n",
       "      <td>0.628058</td>\n",
       "      <td>53.939541</td>\n",
       "      <td>52.377906</td>\n",
       "      <td>10.301081</td>\n",
       "      <td>43.638461</td>\n",
       "      <td>6.933517</td>\n",
       "      <td>0.379864</td>\n",
       "      <td>16.511069</td>\n",
       "      <td>30.120775</td>\n",
       "    </tr>\n",
       "    <tr>\n",
       "      <th>3</th>\n",
       "      <td>0.062500</td>\n",
       "      <td>11.306162</td>\n",
       "      <td>1.049330</td>\n",
       "      <td>8.739451</td>\n",
       "      <td>0.731063</td>\n",
       "      <td>0.628058</td>\n",
       "      <td>53.939872</td>\n",
       "      <td>52.377924</td>\n",
       "      <td>10.301398</td>\n",
       "      <td>43.638474</td>\n",
       "      <td>6.933504</td>\n",
       "      <td>0.379759</td>\n",
       "      <td>16.489634</td>\n",
       "      <td>30.089461</td>\n",
       "    </tr>\n",
       "    <tr>\n",
       "      <th>4</th>\n",
       "      <td>0.083333</td>\n",
       "      <td>11.306162</td>\n",
       "      <td>1.049330</td>\n",
       "      <td>8.739454</td>\n",
       "      <td>0.731063</td>\n",
       "      <td>0.628058</td>\n",
       "      <td>53.940347</td>\n",
       "      <td>52.377951</td>\n",
       "      <td>10.301851</td>\n",
       "      <td>43.638496</td>\n",
       "      <td>6.933485</td>\n",
       "      <td>0.379613</td>\n",
       "      <td>16.460382</td>\n",
       "      <td>30.047234</td>\n",
       "    </tr>\n",
       "    <tr>\n",
       "      <th>...</th>\n",
       "      <td>...</td>\n",
       "      <td>...</td>\n",
       "      <td>...</td>\n",
       "      <td>...</td>\n",
       "      <td>...</td>\n",
       "      <td>...</td>\n",
       "      <td>...</td>\n",
       "      <td>...</td>\n",
       "      <td>...</td>\n",
       "      <td>...</td>\n",
       "      <td>...</td>\n",
       "      <td>...</td>\n",
       "      <td>...</td>\n",
       "      <td>...</td>\n",
       "    </tr>\n",
       "    <tr>\n",
       "      <th>9139</th>\n",
       "      <td>189.903333</td>\n",
       "      <td>11.306162</td>\n",
       "      <td>1.049329</td>\n",
       "      <td>8.740002</td>\n",
       "      <td>0.731063</td>\n",
       "      <td>0.628057</td>\n",
       "      <td>53.937733</td>\n",
       "      <td>52.377854</td>\n",
       "      <td>10.299881</td>\n",
       "      <td>43.637852</td>\n",
       "      <td>6.933562</td>\n",
       "      <td>0.380229</td>\n",
       "      <td>16.583253</td>\n",
       "      <td>30.224298</td>\n",
       "    </tr>\n",
       "    <tr>\n",
       "      <th>9140</th>\n",
       "      <td>189.923333</td>\n",
       "      <td>11.306162</td>\n",
       "      <td>1.049329</td>\n",
       "      <td>8.740001</td>\n",
       "      <td>0.731063</td>\n",
       "      <td>0.628057</td>\n",
       "      <td>53.937362</td>\n",
       "      <td>52.377834</td>\n",
       "      <td>10.299529</td>\n",
       "      <td>43.637833</td>\n",
       "      <td>6.933576</td>\n",
       "      <td>0.380348</td>\n",
       "      <td>16.607140</td>\n",
       "      <td>30.258711</td>\n",
       "    </tr>\n",
       "    <tr>\n",
       "      <th>9141</th>\n",
       "      <td>189.943333</td>\n",
       "      <td>11.306162</td>\n",
       "      <td>1.049329</td>\n",
       "      <td>8.740001</td>\n",
       "      <td>0.731063</td>\n",
       "      <td>0.628057</td>\n",
       "      <td>53.937513</td>\n",
       "      <td>52.377842</td>\n",
       "      <td>10.299672</td>\n",
       "      <td>43.637841</td>\n",
       "      <td>6.933570</td>\n",
       "      <td>0.380308</td>\n",
       "      <td>16.598852</td>\n",
       "      <td>30.246676</td>\n",
       "    </tr>\n",
       "    <tr>\n",
       "      <th>9142</th>\n",
       "      <td>189.963333</td>\n",
       "      <td>11.306162</td>\n",
       "      <td>1.049329</td>\n",
       "      <td>8.740001</td>\n",
       "      <td>0.731063</td>\n",
       "      <td>0.628057</td>\n",
       "      <td>53.936987</td>\n",
       "      <td>52.377813</td>\n",
       "      <td>10.299175</td>\n",
       "      <td>43.637812</td>\n",
       "      <td>6.933591</td>\n",
       "      <td>0.380476</td>\n",
       "      <td>16.632406</td>\n",
       "      <td>30.294895</td>\n",
       "    </tr>\n",
       "    <tr>\n",
       "      <th>9143</th>\n",
       "      <td>189.983333</td>\n",
       "      <td>11.306162</td>\n",
       "      <td>1.049329</td>\n",
       "      <td>8.740004</td>\n",
       "      <td>0.731063</td>\n",
       "      <td>0.628057</td>\n",
       "      <td>53.937860</td>\n",
       "      <td>52.377861</td>\n",
       "      <td>10.300002</td>\n",
       "      <td>43.637858</td>\n",
       "      <td>6.933557</td>\n",
       "      <td>0.380204</td>\n",
       "      <td>16.578020</td>\n",
       "      <td>30.216533</td>\n",
       "    </tr>\n",
       "  </tbody>\n",
       "</table>\n",
       "<p>9144 rows × 14 columns</p>\n",
       "</div>"
      ],
      "text/plain": [
       "               t        X_T       S_1       S_2       X_1       X_2  \\\n",
       "0       0.000000  11.306162  1.049330  8.739460  0.731063  0.628058   \n",
       "1       0.020833  11.306162  1.049330  8.739449  0.731063  0.628058   \n",
       "2       0.041667  11.306162  1.049330  8.739445  0.731063  0.628058   \n",
       "3       0.062500  11.306162  1.049330  8.739451  0.731063  0.628058   \n",
       "4       0.083333  11.306162  1.049330  8.739454  0.731063  0.628058   \n",
       "...          ...        ...       ...       ...       ...       ...   \n",
       "9139  189.903333  11.306162  1.049329  8.740002  0.731063  0.628057   \n",
       "9140  189.923333  11.306162  1.049329  8.740001  0.731063  0.628057   \n",
       "9141  189.943333  11.306162  1.049329  8.740001  0.731063  0.628057   \n",
       "9142  189.963333  11.306162  1.049329  8.740001  0.731063  0.628057   \n",
       "9143  189.983333  11.306162  1.049329  8.740004  0.731063  0.628057   \n",
       "\n",
       "              C          Z        CO2          B        pH       p_C  \\\n",
       "0     53.940968  52.377986  10.000000  43.638526  6.933462  0.000000   \n",
       "1     53.941347  52.378005  10.302791  43.638556  6.933446  0.379301   \n",
       "2     53.939541  52.377906  10.301081  43.638461  6.933517  0.379864   \n",
       "3     53.939872  52.377924  10.301398  43.638474  6.933504  0.379759   \n",
       "4     53.940347  52.377951  10.301851  43.638496  6.933485  0.379613   \n",
       "...         ...        ...        ...        ...       ...       ...   \n",
       "9139  53.937733  52.377854  10.299881  43.637852  6.933562  0.380229   \n",
       "9140  53.937362  52.377834  10.299529  43.637833  6.933576  0.380348   \n",
       "9141  53.937513  52.377842  10.299672  43.637841  6.933570  0.380308   \n",
       "9142  53.936987  52.377813  10.299175  43.637812  6.933591  0.380476   \n",
       "9143  53.937860  52.377861  10.300002  43.637858  6.933557  0.380204   \n",
       "\n",
       "            q_C      q_CH4  \n",
       "0      0.000000   0.000000  \n",
       "1     16.399190  29.959412  \n",
       "2     16.511069  30.120775  \n",
       "3     16.489634  30.089461  \n",
       "4     16.460382  30.047234  \n",
       "...         ...        ...  \n",
       "9139  16.583253  30.224298  \n",
       "9140  16.607140  30.258711  \n",
       "9141  16.598852  30.246676  \n",
       "9142  16.632406  30.294895  \n",
       "9143  16.578020  30.216533  \n",
       "\n",
       "[9144 rows x 14 columns]"
      ]
     },
     "execution_count": 19,
     "metadata": {},
     "output_type": "execute_result"
    }
   ],
   "source": [
    "tspan = influent['time']\n",
    "dfresults = pd.DataFrame()\n",
    "for i in range(len(tspan)-1):\n",
    "    index = i\n",
    "    t = tspan[index]\n",
    "    XT = effluent['X_xc'][index]+ effluent['X_ch'][index] + effluent['X_pr'][index] + effluent['X_li'][index]\n",
    "    S1 = effluent['S_su'][index] + effluent['S_aa'][index] + effluent['S_fa'][index] \n",
    "    S2 = (effluent['S_va'][index]/208 + effluent['S_bu'][index]/160 + effluent['S_pro'][index]/112 + effluent['S_ac'][index]/64)*1000\n",
    "    X1 = (effluent['X_su'][index] + effluent['X_aa'][index] + effluent['X_fa'][index])/1.55\n",
    "    X2 = (effluent['X_ac'][index] + effluent['X_h2'][index] + effluent['X_c4'][index] + effluent['X_pro'][index])/1.55\n",
    "    C = effluent['S_IC'][index]*1000\n",
    "    Z = S2 + effluent['S_hco3_ion'][index]*1000\n",
    "    CO2 = effluent['S_co2'][index]*1000\n",
    "    B = effluent['S_hco3_ion'][index]*1000\n",
    "    pH = effluent['pH'][index]\n",
    "    \n",
    "    q_C = gas['q_co2'][index]*P_op/(Rgas_m3_atm_K*T_op)/V_liq\n",
    "    q_M = gas['q_ch4'][index]*P_op/(Rgas_m3_atm_K*T_op)/V_liq\n",
    "    p_C = gas['p_gas_co2'][index]*1.01325  \n",
    "    results_iter = {'t': t, 'X_T': [XT], 'S_1': [S1], 'S_2': [S2], 'X_1': [X1], 'X_2': [X2], 'C': [C], 'Z': [Z], 'CO2': [CO2], 'B': [B], 'pH': [pH], 'p_C': [p_C], 'q_C': [q_C], 'q_CH4': [q_M]}\n",
    "    dfresults = dfresults.append(pd.DataFrame(results_iter), ignore_index=True)\n",
    "\n",
    "dfresults"
   ]
  },
  {
   "cell_type": "code",
   "execution_count": 20,
   "metadata": {},
   "outputs": [
    {
     "data": {
      "text/plain": [
       "(0.0, 32.0)"
      ]
     },
     "execution_count": 20,
     "metadata": {},
     "output_type": "execute_result"
    },
    {
     "data": {
      "image/png": "[encoded data removed]",
      "text/plain": [
       "<Figure size 432x288 with 1 Axes>"
      ]
     },
     "metadata": {
      "needs_background": "light"
     },
     "output_type": "display_data"
    }
   ],
   "source": [
    "plt.plot(dfresults['t'], dfresults['q_C'], label='qC')\n",
    "plt.plot(dfresults['t'], dfresults['q_CH4'], label='qM')\n",
    "plt.legend()\n",
    "plt.ylabel('Gas flow rate (mmol/L/d)')\n",
    "plt.xlabel('Time (d)')\n",
    "plt.xlim([0, 32])\n"
   ]
  },
  {
   "cell_type": "code",
   "execution_count": 21,
   "metadata": {},
   "outputs": [],
   "source": [
    "dfresults.to_csv(name + '_results_for_comparison.csv', index=False)"
   ]
  }
 ],
 "metadata": {
  "kernelspec": {
   "display_name": "Python 3.10.0 64-bit",
   "language": "python",
   "name": "python3"
  },
  "language_info": {
   "codemirror_mode": {
    "name": "ipython",
    "version": 3
   },
   "file_extension": ".py",
   "mimetype": "text/x-python",
   "name": "python",
   "nbconvert_exporter": "python",
   "pygments_lexer": "ipython3",
   "version": "3.10.0"
  },
  "orig_nbformat": 4,
  "vscode": {
   "interpreter": {
    "hash": "26de051ba29f2982a8de78e945f0abaf191376122a1563185a90213a26c5da77"
   }
  }
 },
 "nbformat": 4,
 "nbformat_minor": 2
}
