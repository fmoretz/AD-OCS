{
 "cells": [
  {
   "cell_type": "code",
   "execution_count": 17,
   "metadata": {},
   "outputs": [],
   "source": [
    "import numpy as np\n",
    "import matplotlib.pyplot as plt\n",
    "import numpy as np\n",
    "import statsmodels.api as sm\n",
    "\n",
    "from scipy.optimize import curve_fit\n",
    "from sklearn.linear_model import LinearRegression\n",
    "\n",
    "from dataimport import*\n",
    "from PhysConstants import*"
   ]
  },
  {
   "cell_type": "code",
   "execution_count": 21,
   "metadata": {},
   "outputs": [
    {
     "data": {
      "text/plain": [
       "array([123.47622986])"
      ]
     },
     "execution_count": 21,
     "metadata": {},
     "output_type": "execute_result"
    }
   ],
   "source": [
    "pKb = -np.log10(Kb)\n",
    "fun = 1/(1+10**(pH-pKb))\n",
    "X3r = CO2 - KH*P_C\n",
    "\n",
    "Y3r = q_C\n",
    "mdl3= LinearRegression(fit_intercept=True).fit(np.array(X3r).reshape(-1,1), np.array(Y3r))\n",
    "mdl3.coef_"
   ]
  },
  {
   "cell_type": "code",
   "execution_count": 19,
   "metadata": {},
   "outputs": [
    {
     "data": {
      "text/plain": [
       "0     0.414199\n",
       "1     0.262126\n",
       "2     0.243128\n",
       "3     0.218345\n",
       "4     0.196030\n",
       "5     0.204584\n",
       "6     0.194275\n",
       "7     0.185967\n",
       "8     0.181418\n",
       "9     0.140594\n",
       "10    0.155535\n",
       "11    0.148676\n",
       "dtype: float64"
      ]
     },
     "execution_count": 19,
     "metadata": {},
     "output_type": "execute_result"
    }
   ],
   "source": [
    "X3r"
   ]
  },
  {
   "cell_type": "code",
   "execution_count": 20,
   "metadata": {},
   "outputs": [
    {
     "data": {
      "text/plain": [
       "Text(0, 0.5, 'qC [g/L/d]')"
      ]
     },
     "execution_count": 20,
     "metadata": {},
     "output_type": "execute_result"
    },
    {
     "data": {
      "image/png": "[encoded data removed]",
      "text/plain": [
       "<Figure size 432x288 with 1 Axes>"
      ]
     },
     "metadata": {
      "needs_background": "light"
     },
     "output_type": "display_data"
    }
   ],
   "source": [
    "marker = \"2\"\n",
    "linewidth = 1.5\n",
    "linestyle = \"solid\"\n",
    "fontsize = 2\n",
    "plt.plot(X3r, mdl3.intercept_ + mdl3.coef_*X3r, color=\"#728fa5\")\n",
    "plt.plot(X3r, Y3r, marker='*', linestyle=\"None\", color=\"black\")\n",
    "plt.xlabel(\"SCO2-KH*PC [g/L/d]\", fontsize=fontsize)     # C*1/(1+10**(pH-pKb))-KH*PC [g/L/d]\n",
    "plt.ylabel(\"qC [g/L/d]\", fontsize=fontsize)     # qC [g/L/d]"
   ]
  },
  {
   "cell_type": "code",
   "execution_count": 28,
   "metadata": {},
   "outputs": [
    {
     "data": {
      "text/plain": [
       "0     7.01\n",
       "1     7.32\n",
       "2     7.40\n",
       "3     7.43\n",
       "4     7.45\n",
       "5     7.46\n",
       "6     7.47\n",
       "7     7.47\n",
       "8     7.48\n",
       "9     7.48\n",
       "10    7.50\n",
       "11    7.51\n",
       "12    7.51\n",
       "Name: pH, dtype: float64"
      ]
     },
     "execution_count": 28,
     "metadata": {},
     "output_type": "execute_result"
    }
   ],
   "source": [
    "pH"
   ]
  },
  {
   "cell_type": "code",
   "execution_count": 29,
   "metadata": {},
   "outputs": [
    {
     "data": {
      "text/plain": [
       "6.187086643357144"
      ]
     },
     "execution_count": 29,
     "metadata": {},
     "output_type": "execute_result"
    }
   ],
   "source": [
    "pKb"
   ]
  },
  {
   "cell_type": "code",
   "execution_count": 14,
   "metadata": {},
   "outputs": [],
   "source": [
    "from dataimport_copy import*\n",
    "pKb = -np.log10(Kb)\n",
    "fun = 1/(1+10**(pH-pKb))\n",
    "X3r = C*fun - KH*P_C\n",
    "Y3r = q_C\n",
    "mdl3= LinearRegression(fit_intercept=True).fit(np.array(X3r).reshape(-1,1), np.array(Y3r))"
   ]
  },
  {
   "cell_type": "code",
   "execution_count": 15,
   "metadata": {},
   "outputs": [
    {
     "data": {
      "text/plain": [
       "0    -1.030446\n",
       "1    -1.339764\n",
       "2    -1.489482\n",
       "3    -1.617488\n",
       "4    -1.747343\n",
       "5    -1.864484\n",
       "6    -1.930833\n",
       "7    -1.930833\n",
       "8    -2.046553\n",
       "9    -1.998079\n",
       "10   -2.134978\n",
       "11   -2.249882\n",
       "12   -2.159112\n",
       "dtype: float64"
      ]
     },
     "execution_count": 15,
     "metadata": {},
     "output_type": "execute_result"
    }
   ],
   "source": [
    "X3r"
   ]
  },
  {
   "cell_type": "code",
   "execution_count": 16,
   "metadata": {},
   "outputs": [
    {
     "data": {
      "text/plain": [
       "array([31.15278251])"
      ]
     },
     "execution_count": 16,
     "metadata": {},
     "output_type": "execute_result"
    },
    {
     "data": {
      "image/png": "[encoded data removed]",
      "text/plain": [
       "<Figure size 432x288 with 1 Axes>"
      ]
     },
     "metadata": {
      "needs_background": "light"
     },
     "output_type": "display_data"
    }
   ],
   "source": [
    "plt.plot(X3r, mdl3.intercept_ + mdl3.coef_*X3r, color=\"#728fa5\")\n",
    "plt.plot(X3r, Y3r, marker='*', linestyle=\"None\", color=\"black\")\n",
    "plt.xlabel(\"SCO2-KH*PC [g/L/d]\", fontsize=fontsize)     # C*1/(1+10**(pH-pKb))-KH*PC [g/L/d]\n",
    "plt.ylabel(\"qC [g/L/d]\", fontsize=fontsize)     # qC [g/L/d]\n",
    "mdl3.coef_"
   ]
  },
  {
   "cell_type": "code",
   "execution_count": 31,
   "metadata": {},
   "outputs": [
    {
     "data": {
      "text/plain": [
       "26.420897759212476"
      ]
     },
     "execution_count": 31,
     "metadata": {},
     "output_type": "execute_result"
    }
   ],
   "source": [
    "KH"
   ]
  }
 ],
 "metadata": {
  "kernelspec": {
   "display_name": "Python 3.10.0 64-bit",
   "language": "python",
   "name": "python3"
  },
  "language_info": {
   "codemirror_mode": {
    "name": "ipython",
    "version": 3
   },
   "file_extension": ".py",
   "mimetype": "text/x-python",
   "name": "python",
   "nbconvert_exporter": "python",
   "pygments_lexer": "ipython3",
   "version": "3.10.0"
  },
  "orig_nbformat": 4,
  "vscode": {
   "interpreter": {
    "hash": "26de051ba29f2982a8de78e945f0abaf191376122a1563185a90213a26c5da77"
   }
  }
 },
 "nbformat": 4,
 "nbformat_minor": 2
}
